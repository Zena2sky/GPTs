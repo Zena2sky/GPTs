{
 "cells": [
  {
   "cell_type": "markdown",
   "id": "8ec17985",
   "metadata": {},
   "source": [
    "각 행을 JSON으로 변환하는 코드 - 0514 기준 4명 파일(이로,해인,슬,송이)로 함."
   ]
  },
  {
   "cell_type": "code",
   "execution_count": 1,
   "id": "49e004d9",
   "metadata": {},
   "outputs": [
    {
     "name": "stdout",
     "output_type": "stream",
     "text": [
      "✅ 변환 완료! 저장 위치: C:\\Devel\\GPTs\\감정데이터_all_annotators.jsonl\n"
     ]
    }
   ],
   "source": [
    "import csv\n",
    "import json\n",
    "import pandas as pd\n",
    "\n",
    "# 입력 CSV 경로\n",
    "csv_path = r\"C:\\Devel\\GPTs\\총합데이터셋_0514_4인 - 행단위.csv\"\n",
    "\n",
    "# 출력 JSONL 경로\n",
    "output_path = r\"C:\\Devel\\GPTs\\감정데이터_all_annotators.jsonl\"\n",
    "\n",
    "# CSV 불러오기\n",
    "df = pd.read_csv(csv_path)\n",
    "\n",
    "# JSONL로 저장\n",
    "with open(output_path, \"w\", encoding=\"utf-8\") as jsonlfile:\n",
    "    for _, row in df.iterrows():\n",
    "        # 본문과 4명 어노테이터 라벨이 모두 존재하는 행만 처리\n",
    "        if pd.notna(row[\"본문\"]):\n",
    "            entry = {\n",
    "                \"text\": row[\"본문\"].strip(),\n",
    "                \"annotator01\": row[\"annotator01\"].strip() if pd.notna(row[\"annotator01\"]) else \"\",\n",
    "                \"annotator02\": row[\"annotator02\"].strip() if pd.notna(row[\"annotator02\"]) else \"\",\n",
    "                \"annotator03\": row[\"annotator03\"].strip() if pd.notna(row[\"annotator03\"]) else \"\",\n",
    "                \"annotator04\": row[\"annotator04\"].strip() if pd.notna(row[\"annotator04\"]) else \"\"\n",
    "            }\n",
    "            json.dump(entry, jsonlfile, ensure_ascii=False)\n",
    "            jsonlfile.write(\"\\n\")\n",
    "\n",
    "print(\"✅ 변환 완료! 저장 위치:\", output_path)\n"
   ]
  }
 ],
 "metadata": {
  "kernelspec": {
   "display_name": "Python 3",
   "language": "python",
   "name": "python3"
  },
  "language_info": {
   "codemirror_mode": {
    "name": "ipython",
    "version": 3
   },
   "file_extension": ".py",
   "mimetype": "text/x-python",
   "name": "python",
   "nbconvert_exporter": "python",
   "pygments_lexer": "ipython3",
   "version": "3.12.4"
  }
 },
 "nbformat": 4,
 "nbformat_minor": 5
}
